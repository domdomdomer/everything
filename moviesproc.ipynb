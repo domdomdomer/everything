{
 "cells": [
  {
   "cell_type": "code",
   "execution_count": 1,
   "metadata": {},
   "outputs": [],
   "source": [
    "import re\n",
    "import numpy as np\n",
    "import pandas as pd\n",
    "from sklearn.impute import SimpleImputer\n",
    "from sklearn.model_selection import train_test_split\n",
    "from sklearn.preprocessing import LabelEncoder\n",
    "\n",
    "# Read the dataset\n",
    "dataset = pd.read_csv('movies.csv')\n",
    "\n",
    "# Handling missing values\n",
    "imputer = SimpleImputer(missing_values=np.nan, strategy='mean')\n",
    "numerical_columns = dataset.select_dtypes(include=[np.number]).columns.tolist()\n",
    "imputer.fit(dataset[numerical_columns])\n",
    "dataset[numerical_columns] = imputer.transform(dataset[numerical_columns])\n",
    "\n",
    "# Convert 'YEAR' column to a standardized format\n",
    "dataset['YEAR'] = dataset['YEAR'].str.extract(r'(\\d{4})')\n"
   ]
  },
  {
   "cell_type": "code",
   "execution_count": 2,
   "metadata": {},
   "outputs": [],
   "source": [
    "# Preprocess 'ONE-LINE' column\n",
    "def preprocess_text(text):\n",
    "    return text.lower()\n",
    "\n",
    "dataset['ONE-LINE'] = dataset['ONE-LINE'].apply(preprocess_text)\n",
    "\n",
    "# Preprocess 'STARS' column and create binary columns\n",
    "def extract_stars(stars_column):\n",
    "    stars_list = re.findall(r'[A-Z][a-z]+ [A-Z][a-z]+', stars_column)\n",
    "    stars_binary = {star: 1 for star in stars_list}\n",
    "    return stars_binary\n",
    "\n",
    "stars_df = dataset['STARS'].apply(extract_stars).apply(pd.Series).fillna(0)\n",
    "\n",
    "# Combine the binary star columns with the original dataset\n",
    "dataset_with_stars = pd.concat([dataset, stars_df], axis=1)\n",
    "\n",
    "# Drop the original 'STARS' column\n",
    "dataset_with_stars.drop(columns=['STARS'], inplace=True)"
   ]
  },
  {
   "cell_type": "code",
   "execution_count": 3,
   "metadata": {},
   "outputs": [],
   "source": [
    "# Encoding categorical data\n",
    "labelencoder = LabelEncoder()\n",
    "dataset_with_stars['GENRE'] = labelencoder.fit_transform(dataset_with_stars['GENRE'])\n",
    "\n",
    "# Splitting the dataset into independent and dependent variables\n",
    "X = dataset_with_stars.drop(columns=['MOVIES', 'RATING'])\n",
    "Y = dataset_with_stars['RATING']"
   ]
  },
  {
   "cell_type": "code",
   "execution_count": 4,
   "metadata": {},
   "outputs": [
    {
     "name": "stdout",
     "output_type": "stream",
     "text": [
      "Preprocessed data saved successfully!\n"
     ]
    }
   ],
   "source": [
    "# Splitting the dataset into the Training set and Test set\n",
    "X_train, X_test, _, _ = train_test_split(X, Y, test_size=0.2, random_state=1)\n",
    "\n",
    "# Save preprocessed training data\n",
    "X_train_preprocessed = pd.DataFrame(X_train, columns=X_train.columns)\n",
    "X_train_preprocessed.to_csv('X_train_preprocessed_movies.csv', index=False)\n",
    "\n",
    "# Save preprocessed testing data\n",
    "X_test_preprocessed = pd.DataFrame(X_test, columns=X_test.columns)\n",
    "X_test_preprocessed.to_csv('X_test_preprocessed_movies.csv', index=False)\n",
    "\n",
    "print(\"Preprocessed data saved successfully!\")"
   ]
  }
 ],
 "metadata": {
  "kernelspec": {
   "display_name": "Python 3",
   "language": "python",
   "name": "python3"
  },
  "language_info": {
   "codemirror_mode": {
    "name": "ipython",
    "version": 3
   },
   "file_extension": ".py",
   "mimetype": "text/x-python",
   "name": "python",
   "nbconvert_exporter": "python",
   "pygments_lexer": "ipython3",
   "version": "3.11.8"
  }
 },
 "nbformat": 4,
 "nbformat_minor": 2
}
